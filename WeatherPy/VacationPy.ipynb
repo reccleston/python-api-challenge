{
 "cells": [
  {
   "cell_type": "markdown",
   "metadata": {},
   "source": [
    "# VacationPy\n",
    "----\n",
    "\n",
    "#### Note\n",
    "* Keep an eye on your API usage. Use https://developers.google.com/maps/reporting/gmp-reporting as reference for how to monitor your usage and billing.\n",
    "\n",
    "* Instructions have been included for each segment. You do not have to follow them exactly, but they are included to help you think through the steps."
   ]
  },
  {
   "cell_type": "code",
   "execution_count": 29,
   "metadata": {},
   "outputs": [],
   "source": [
    "# Dependencies and Setup\n",
    "import matplotlib.pyplot as plt\n",
    "import pandas as pd\n",
    "import numpy as np\n",
    "import requests\n",
    "import gmaps\n",
    "import os\n",
    "\n",
    "# Import API key\n",
    "from api_keys import g_key"
   ]
  },
  {
   "cell_type": "markdown",
   "metadata": {},
   "source": [
    "### Store Part I results into DataFrame\n",
    "* Load the csv exported in Part I to a DataFrame"
   ]
  },
  {
   "cell_type": "code",
   "execution_count": 31,
   "metadata": {},
   "outputs": [
    {
     "name": "stdout",
     "output_type": "stream",
     "text": [
      "529\n"
     ]
    },
    {
     "data": {
      "text/html": [
       "<div>\n",
       "<style scoped>\n",
       "    .dataframe tbody tr th:only-of-type {\n",
       "        vertical-align: middle;\n",
       "    }\n",
       "\n",
       "    .dataframe tbody tr th {\n",
       "        vertical-align: top;\n",
       "    }\n",
       "\n",
       "    .dataframe thead th {\n",
       "        text-align: right;\n",
       "    }\n",
       "</style>\n",
       "<table border=\"1\" class=\"dataframe\">\n",
       "  <thead>\n",
       "    <tr style=\"text-align: right;\">\n",
       "      <th></th>\n",
       "      <th>City Name</th>\n",
       "      <th>City Latitude</th>\n",
       "      <th>City Longitude</th>\n",
       "      <th>Max Tempurature</th>\n",
       "      <th>Humidity</th>\n",
       "      <th>Cloud coverage</th>\n",
       "      <th>Wind speed</th>\n",
       "      <th>City Country</th>\n",
       "      <th>City datetime</th>\n",
       "    </tr>\n",
       "  </thead>\n",
       "  <tbody>\n",
       "    <tr>\n",
       "      <th>0</th>\n",
       "      <td>Atuona</td>\n",
       "      <td>-9.80</td>\n",
       "      <td>-139.03</td>\n",
       "      <td>77.558</td>\n",
       "      <td>78.0</td>\n",
       "      <td>100.0</td>\n",
       "      <td>8.44</td>\n",
       "      <td>PF</td>\n",
       "      <td>1.609779e+09</td>\n",
       "    </tr>\n",
       "    <tr>\n",
       "      <th>1</th>\n",
       "      <td>Arlit</td>\n",
       "      <td>18.74</td>\n",
       "      <td>7.39</td>\n",
       "      <td>84.938</td>\n",
       "      <td>14.0</td>\n",
       "      <td>2.0</td>\n",
       "      <td>2.76</td>\n",
       "      <td>NE</td>\n",
       "      <td>1.609779e+09</td>\n",
       "    </tr>\n",
       "    <tr>\n",
       "      <th>2</th>\n",
       "      <td>Clyde River</td>\n",
       "      <td>70.47</td>\n",
       "      <td>-68.59</td>\n",
       "      <td>-18.400</td>\n",
       "      <td>82.0</td>\n",
       "      <td>75.0</td>\n",
       "      <td>7.20</td>\n",
       "      <td>CA</td>\n",
       "      <td>1.609779e+09</td>\n",
       "    </tr>\n",
       "    <tr>\n",
       "      <th>3</th>\n",
       "      <td>Kapaa</td>\n",
       "      <td>22.08</td>\n",
       "      <td>-159.32</td>\n",
       "      <td>73.400</td>\n",
       "      <td>78.0</td>\n",
       "      <td>20.0</td>\n",
       "      <td>4.10</td>\n",
       "      <td>US</td>\n",
       "      <td>1.609779e+09</td>\n",
       "    </tr>\n",
       "    <tr>\n",
       "      <th>4</th>\n",
       "      <td>Lompoc</td>\n",
       "      <td>34.64</td>\n",
       "      <td>-120.46</td>\n",
       "      <td>46.400</td>\n",
       "      <td>100.0</td>\n",
       "      <td>90.0</td>\n",
       "      <td>2.60</td>\n",
       "      <td>US</td>\n",
       "      <td>1.609779e+09</td>\n",
       "    </tr>\n",
       "  </tbody>\n",
       "</table>\n",
       "</div>"
      ],
      "text/plain": [
       "     City Name  City Latitude  City Longitude  Max Tempurature  Humidity  \\\n",
       "0       Atuona          -9.80         -139.03           77.558      78.0   \n",
       "1        Arlit          18.74            7.39           84.938      14.0   \n",
       "2  Clyde River          70.47          -68.59          -18.400      82.0   \n",
       "3        Kapaa          22.08         -159.32           73.400      78.0   \n",
       "4       Lompoc          34.64         -120.46           46.400     100.0   \n",
       "\n",
       "   Cloud coverage  Wind speed City Country  City datetime  \n",
       "0           100.0        8.44           PF   1.609779e+09  \n",
       "1             2.0        2.76           NE   1.609779e+09  \n",
       "2            75.0        7.20           CA   1.609779e+09  \n",
       "3            20.0        4.10           US   1.609779e+09  \n",
       "4            90.0        2.60           US   1.609779e+09  "
      ]
     },
     "execution_count": 31,
     "metadata": {},
     "output_type": "execute_result"
    }
   ],
   "source": [
    "raw_df = pd.read_csv('../output_data/WeatherPy_output/raw_weather.csv')\n",
    "print(len(raw_df))\n",
    "raw_df.head()"
   ]
  },
  {
   "cell_type": "markdown",
   "metadata": {},
   "source": [
    "### Humidity Heatmap\n",
    "* Configure gmaps.\n",
    "* Use the Lat and Lng as locations and Humidity as the weight.\n",
    "* Add Heatmap layer to map."
   ]
  },
  {
   "cell_type": "code",
   "execution_count": 32,
   "metadata": {},
   "outputs": [],
   "source": [
    "import gmaps\n",
    "gmaps.configure(api_key=g_key)"
   ]
  },
  {
   "cell_type": "code",
   "execution_count": 34,
   "metadata": {},
   "outputs": [
    {
     "data": {
      "application/vnd.jupyter.widget-view+json": {
       "model_id": "fe47d7d5b7974317b3ab1591c07c0daf",
       "version_major": 2,
       "version_minor": 0
      },
      "text/plain": [
       "Figure(layout=FigureLayout(height='420px'))"
      ]
     },
     "metadata": {},
     "output_type": "display_data"
    }
   ],
   "source": [
    "coords = raw_df[['City Latitude', 'City Longitude']].fillna(0)\n",
    "humidity = raw_df['Humidity']\n",
    "\n",
    "fig = gmaps.figure(map_type='HYBRID')\n",
    "\n",
    "heatmap_layer = gmaps.heatmap_layer(coords, weights=humidity, dissipating=False, max_intensity=10, point_radius=1)\n",
    "\n",
    "fig.add_layer(heatmap_layer)\n",
    "\n",
    "fig"
   ]
  },
  {
   "cell_type": "markdown",
   "metadata": {},
   "source": [
    "### Create new DataFrame fitting weather criteria\n",
    "* Narrow down the cities to fit weather conditions.\n",
    "* Drop any rows will null values."
   ]
  },
  {
   "cell_type": "code",
   "execution_count": 35,
   "metadata": {},
   "outputs": [
    {
     "data": {
      "text/html": [
       "<div>\n",
       "<style scoped>\n",
       "    .dataframe tbody tr th:only-of-type {\n",
       "        vertical-align: middle;\n",
       "    }\n",
       "\n",
       "    .dataframe tbody tr th {\n",
       "        vertical-align: top;\n",
       "    }\n",
       "\n",
       "    .dataframe thead th {\n",
       "        text-align: right;\n",
       "    }\n",
       "</style>\n",
       "<table border=\"1\" class=\"dataframe\">\n",
       "  <thead>\n",
       "    <tr style=\"text-align: right;\">\n",
       "      <th></th>\n",
       "      <th>City</th>\n",
       "      <th>City Latitude</th>\n",
       "      <th>City Longitude</th>\n",
       "      <th>Max Tempurature</th>\n",
       "      <th>Humidity</th>\n",
       "      <th>Cloud coverage</th>\n",
       "      <th>Wind speed</th>\n",
       "      <th>City Country</th>\n",
       "      <th>City datetime</th>\n",
       "    </tr>\n",
       "    <tr>\n",
       "      <th>City Name</th>\n",
       "      <th></th>\n",
       "      <th></th>\n",
       "      <th></th>\n",
       "      <th></th>\n",
       "      <th></th>\n",
       "      <th></th>\n",
       "      <th></th>\n",
       "      <th></th>\n",
       "      <th></th>\n",
       "    </tr>\n",
       "  </thead>\n",
       "  <tbody>\n",
       "    <tr>\n",
       "      <th>Pimentel</th>\n",
       "      <td>Pimentel</td>\n",
       "      <td>-6.84</td>\n",
       "      <td>-79.93</td>\n",
       "      <td>78.800</td>\n",
       "      <td>61.0</td>\n",
       "      <td>0.0</td>\n",
       "      <td>2.10</td>\n",
       "      <td>PE</td>\n",
       "      <td>1.609779e+09</td>\n",
       "    </tr>\n",
       "    <tr>\n",
       "      <th>Umm Kaddadah</th>\n",
       "      <td>Umm Kaddadah</td>\n",
       "      <td>13.60</td>\n",
       "      <td>26.69</td>\n",
       "      <td>77.612</td>\n",
       "      <td>19.0</td>\n",
       "      <td>0.0</td>\n",
       "      <td>4.96</td>\n",
       "      <td>SD</td>\n",
       "      <td>1.609779e+09</td>\n",
       "    </tr>\n",
       "    <tr>\n",
       "      <th>Nouadhibou</th>\n",
       "      <td>Nouadhibou</td>\n",
       "      <td>20.93</td>\n",
       "      <td>-17.03</td>\n",
       "      <td>75.200</td>\n",
       "      <td>36.0</td>\n",
       "      <td>0.0</td>\n",
       "      <td>3.60</td>\n",
       "      <td>MR</td>\n",
       "      <td>1.609779e+09</td>\n",
       "    </tr>\n",
       "    <tr>\n",
       "      <th>Cidreira</th>\n",
       "      <td>Cidreira</td>\n",
       "      <td>-30.18</td>\n",
       "      <td>-50.21</td>\n",
       "      <td>77.810</td>\n",
       "      <td>66.0</td>\n",
       "      <td>0.0</td>\n",
       "      <td>7.96</td>\n",
       "      <td>BR</td>\n",
       "      <td>1.609779e+09</td>\n",
       "    </tr>\n",
       "    <tr>\n",
       "      <th>La Libertad</th>\n",
       "      <td>La Libertad</td>\n",
       "      <td>-2.23</td>\n",
       "      <td>-80.90</td>\n",
       "      <td>78.800</td>\n",
       "      <td>74.0</td>\n",
       "      <td>0.0</td>\n",
       "      <td>2.60</td>\n",
       "      <td>EC</td>\n",
       "      <td>1.609779e+09</td>\n",
       "    </tr>\n",
       "  </tbody>\n",
       "</table>\n",
       "</div>"
      ],
      "text/plain": [
       "                      City  City Latitude  City Longitude  Max Tempurature  \\\n",
       "City Name                                                                    \n",
       "Pimentel          Pimentel          -6.84          -79.93           78.800   \n",
       "Umm Kaddadah  Umm Kaddadah          13.60           26.69           77.612   \n",
       "Nouadhibou      Nouadhibou          20.93          -17.03           75.200   \n",
       "Cidreira          Cidreira         -30.18          -50.21           77.810   \n",
       "La Libertad    La Libertad          -2.23          -80.90           78.800   \n",
       "\n",
       "              Humidity  Cloud coverage  Wind speed City Country  City datetime  \n",
       "City Name                                                                       \n",
       "Pimentel          61.0             0.0        2.10           PE   1.609779e+09  \n",
       "Umm Kaddadah      19.0             0.0        4.96           SD   1.609779e+09  \n",
       "Nouadhibou        36.0             0.0        3.60           MR   1.609779e+09  \n",
       "Cidreira          66.0             0.0        7.96           BR   1.609779e+09  \n",
       "La Libertad       74.0             0.0        2.60           EC   1.609779e+09  "
      ]
     },
     "execution_count": 35,
     "metadata": {},
     "output_type": "execute_result"
    }
   ],
   "source": [
    "ideal_temp_mask = (raw_df['Max Tempurature'] < 80) & (raw_df['Max Tempurature'] > 70)\n",
    "ideal_wind_mask = raw_df['Wind speed'] < 10\n",
    "ideal_cloud_mask = raw_df['Cloud coverage'] == 0 \n",
    "\n",
    "ideal_spots_df = raw_df[ideal_temp_mask & ideal_wind_mask & ideal_cloud_mask]\n",
    "ideal_spots_df.index = ideal_spots_df['City Name']\n",
    "ideal_spots_df = ideal_spots_df.rename(columns={'City Name': 'City'})\n",
    "ideal_spots_df.head()"
   ]
  },
  {
   "cell_type": "markdown",
   "metadata": {},
   "source": [
    "### Hotel Map\n",
    "* Store into variable named `hotel_df`.\n",
    "* Add a \"Hotel Name\" column to the DataFrame.\n",
    "* Set parameters to search for hotels with 5000 meters.\n",
    "* Hit the Google Places API for each city's coordinates.\n",
    "* Store the first Hotel result into the DataFrame.\n",
    "* Plot markers on top of the heatmap."
   ]
  },
  {
   "cell_type": "code",
   "execution_count": null,
   "metadata": {},
   "outputs": [
    {
     "name": "stdout",
     "output_type": "stream",
     "text": [
      "Searching for hotels within 5000m of Pimentel with Google Places API\n",
      "Searching for hotels within 5000m of Umm Kaddadah with Google Places API\n",
      "Searching for hotels within 5000m of Nouadhibou with Google Places API\n",
      "Searching for hotels within 5000m of Cidreira with Google Places API\n",
      "Searching for hotels within 5000m of La Libertad with Google Places API\n",
      "Searching for hotels within 5000m of Port Elizabeth with Google Places API\n"
     ]
    }
   ],
   "source": [
    "ideal_coords = ideal_spots_df[['City Latitude','City Longitude']]\n",
    "city_names = ideal_spots_df['City']\n",
    "string_coords = []\n",
    "responses = []\n",
    "\n",
    "for vacation_spot in range(len(ideal_coords)):\n",
    "    str_coord = f'{str(ideal_coords.iloc[vacation_spot, 0])}, {str(ideal_coords.iloc[vacation_spot,1])}'\n",
    "    string_coords.append(str_coord)\n",
    "\n",
    "base_url = \"https://maps.googleapis.com/maps/api/place/nearbysearch/json\"\n",
    "target_search = \"Hotel\"\n",
    "target_radius = 5000\n",
    "target_type = \"hotel\"\n",
    "        \n",
    "for index, vacation_spot in enumerate(string_coords): \n",
    "    print(f'Searching for hotels within {target_radius}m of {city_names[index]} with Google Places API')\n",
    "    \n",
    "    params = {\n",
    "        \"location\": vacation_spot,\n",
    "        \"keyword\": target_search,\n",
    "        \"radius\": target_radius,\n",
    "        \"type\": target_type,\n",
    "        \"key\": g_key\n",
    "    }\n",
    "\n",
    "    response = requests.get(base_url, params=params)\n",
    "    responses.append(response)"
   ]
  },
  {
   "cell_type": "code",
   "execution_count": 37,
   "metadata": {},
   "outputs": [],
   "source": [
    "clean_responses = [resp for resp in responses if resp.json()['status'] != 'ZERO_RESULTS']"
   ]
  },
  {
   "cell_type": "code",
   "execution_count": 38,
   "metadata": {},
   "outputs": [],
   "source": [
    "from citipy import citipy\n",
    "\n",
    "# Getting coords of the FIRST HOTEL OF EACH SEARCH WITHIN 5000m OF CITY \n",
    "hotel_info = {'Hotel Name': [],\n",
    "              'Lat': [],\n",
    "              'Lng': [],\n",
    "              'City': []}\n",
    "    \n",
    "for result_list in clean_responses:\n",
    "    hotels = result_list.json()\n",
    "    first_hotel = hotels['results'][0]\n",
    "    \n",
    "    hotel_info['Hotel Name'].append(first_hotel['name'])\n",
    "    hotel_info['Lat'].append(first_hotel['geometry']['location']['lat'])\n",
    "    hotel_info['Lng'].append(first_hotel['geometry']['location']['lng'])\n",
    "\n",
    "# Getting cities of hotels (hotel may not be within the city of search)\n",
    "for coord_pair in zip(hotel_info['Lat'], hotel_info['Lng']):\n",
    "    city = citipy.nearest_city(coord_pair[0], coord_pair[1]).city_name\n",
    "    hotel_info['City'].append(city.title())"
   ]
  },
  {
   "cell_type": "code",
   "execution_count": 40,
   "metadata": {},
   "outputs": [
    {
     "data": {
      "text/plain": [
       "7"
      ]
     },
     "execution_count": 40,
     "metadata": {},
     "output_type": "execute_result"
    }
   ],
   "source": [
    "# Make hotel_df w/ hotel_name, lat, lng, country, city_name cols\n",
    "countries = ideal_spots_df[['City','City Country']]\n",
    "\n",
    "hotel_df = pd.DataFrame(hotel_info)\n",
    "hotel_df = pd.merge(hotel_df, countries, on='City',how='inner')\n",
    "hotel_df = hotel_df.rename(columns={'City Country': 'Country'})\n",
    "\n",
    "try:\n",
    "    hotel_df = hotel_df.sample(10)\n",
    "except:\n",
    "    hotel_df = hotel_df\n",
    "\n",
    "len(hotel_df)"
   ]
  },
  {
   "cell_type": "code",
   "execution_count": 41,
   "metadata": {},
   "outputs": [],
   "source": [
    "# NOTE: Do not change any of the code in this cell\n",
    "\n",
    "# Using the template add the hotel marks to the heatmap\n",
    "info_box_template = \"\"\"\n",
    "<dl>\n",
    "<dt>Name</dt><dd>{Hotel Name}</dd>\n",
    "<dt>City</dt><dd>{City}</dd>\n",
    "<dt>Country</dt><dd>{Country}</dd>\n",
    "</dl>\n",
    "\"\"\"\n",
    "# Store the DataFrame Row\n",
    "# NOTE: be sure to update with your DataFrame name\n",
    "hotel_info = [info_box_template.format(**row) for index, row in hotel_df.iterrows()]\n",
    "locations = hotel_df[[\"Lat\", \"Lng\"]]"
   ]
  },
  {
   "cell_type": "code",
   "execution_count": 42,
   "metadata": {},
   "outputs": [
    {
     "data": {
      "application/vnd.jupyter.widget-view+json": {
       "model_id": "fe47d7d5b7974317b3ab1591c07c0daf",
       "version_major": 2,
       "version_minor": 0
      },
      "text/plain": [
       "Figure(layout=FigureLayout(height='420px'))"
      ]
     },
     "metadata": {},
     "output_type": "display_data"
    }
   ],
   "source": [
    "# Add marker layer ontop of heat map\n",
    "\n",
    "hotel_names = hotel_df['Hotel Name'].values.tolist()\n",
    "\n",
    "marker_layer = gmaps.marker_layer(locations, hotel_names, info_box_content=hotel_info)\n",
    "fig.add_layer(marker_layer)\n",
    "\n",
    "# Display figure\n",
    "fig"
   ]
  },
  {
   "cell_type": "code",
   "execution_count": null,
   "metadata": {},
   "outputs": [],
   "source": []
  }
 ],
 "metadata": {
  "kernelspec": {
   "display_name": "Python 3",
   "language": "python",
   "name": "python3"
  },
  "language_info": {
   "codemirror_mode": {
    "name": "ipython",
    "version": 3
   },
   "file_extension": ".py",
   "mimetype": "text/x-python",
   "name": "python",
   "nbconvert_exporter": "python",
   "pygments_lexer": "ipython3",
   "version": "3.8.3"
  },
  "latex_envs": {
   "LaTeX_envs_menu_present": true,
   "autoclose": false,
   "autocomplete": true,
   "bibliofile": "biblio.bib",
   "cite_by": "apalike",
   "current_citInitial": 1,
   "eqLabelWithNumbers": true,
   "eqNumInitial": 1,
   "hotkeys": {
    "equation": "Ctrl-E",
    "itemize": "Ctrl-I"
   },
   "labels_anchors": false,
   "latex_user_defs": false,
   "report_style_numbering": false,
   "user_envs_cfg": false
  }
 },
 "nbformat": 4,
 "nbformat_minor": 4
}
